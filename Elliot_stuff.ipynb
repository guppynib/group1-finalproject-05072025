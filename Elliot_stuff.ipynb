{
 "cells": [
  {
   "cell_type": "code",
   "execution_count": 11,
   "id": "7fcb4e5c",
   "metadata": {},
   "outputs": [],
   "source": [
    "# Import necessary libraries\n",
    "import pandas as pd\n",
    "from sklearn.feature_extraction.text import TfidfVectorizer\n",
    "from sklearn.cluster import KMeans\n",
    "from sklearn.model_selection import train_test_split\n",
    "from sklearn.ensemble import RandomForestClassifier\n",
    "from sklearn.metrics import classification_report\n",
    "import matplotlib.pyplot as plt\n",
    "import seaborn as sns\n",
    "\n"
   ]
  },
  {
   "cell_type": "code",
   "execution_count": 12,
   "id": "98482b5b",
   "metadata": {},
   "outputs": [
    {
     "name": "stdout",
     "output_type": "stream",
     "text": [
      "First 5 rows of the dataset:\n",
      "             Job Id     Experience Qualifications Salary Range    location  \\\n",
      "0  1089843540111562  5 to 15 Years         M.Tech    $59K-$99K     Douglas   \n",
      "1   398454096642776  2 to 12 Years            BCA   $56K-$116K    Ashgabat   \n",
      "2   481640072963533  0 to 12 Years            PhD   $61K-$104K       Macao   \n",
      "3   688192671473044  4 to 11 Years            PhD    $65K-$91K  Porto-Novo   \n",
      "4   117057806156508  1 to 12 Years            MBA    $64K-$87K    Santiago   \n",
      "\n",
      "            Country  latitude  longitude  Work Type  Company Size  ...  \\\n",
      "0       Isle of Man   54.2361    -4.5481     Intern         26801  ...   \n",
      "1      Turkmenistan   38.9697    59.5563     Intern        100340  ...   \n",
      "2  Macao SAR, China   22.1987   113.5439  Temporary         84525  ...   \n",
      "3             Benin    9.3077     2.3158  Full-Time        129896  ...   \n",
      "4             Chile  -35.6751   -71.5429     Intern         53944  ...   \n",
      "\n",
      "                 Contact                     Job Title  \\\n",
      "0   001-381-930-7517x737  Digital Marketing Specialist   \n",
      "1           461-509-4216                 Web Developer   \n",
      "2             9687619505            Operations Manager   \n",
      "3  +1-820-643-5431x47576              Network Engineer   \n",
      "4      343.975.4702x9340                 Event Manager   \n",
      "\n",
      "                        Role    Job Portal  \\\n",
      "0       Social Media Manager      Snagajob   \n",
      "1     Frontend Web Developer      Idealist   \n",
      "2    Quality Control Manager  Jobs2Careers   \n",
      "3  Wireless Network Engineer      FlexJobs   \n",
      "4         Conference Manager  Jobs2Careers   \n",
      "\n",
      "                                     Job Description  \\\n",
      "0  Social Media Managers oversee an organizations...   \n",
      "1  Frontend Web Developers design and implement u...   \n",
      "2  Quality Control Managers establish and enforce...   \n",
      "3  Wireless Network Engineers design, implement, ...   \n",
      "4  A Conference Manager coordinates and manages c...   \n",
      "\n",
      "                                            Benefits  \\\n",
      "0  {'Flexible Spending Accounts (FSAs), Relocatio...   \n",
      "1  {'Health Insurance, Retirement Plans, Paid Tim...   \n",
      "2  {'Legal Assistance, Bonuses and Incentive Prog...   \n",
      "3  {'Transportation Benefits, Professional Develo...   \n",
      "4  {'Flexible Spending Accounts (FSAs), Relocatio...   \n",
      "\n",
      "                                              skills  \\\n",
      "0  Social media platforms (e.g., Facebook, Twitte...   \n",
      "1  HTML, CSS, JavaScript Frontend frameworks (e.g...   \n",
      "2  Quality control processes and methodologies St...   \n",
      "3  Wireless network design and architecture Wi-Fi...   \n",
      "4  Event planning Conference logistics Budget man...   \n",
      "\n",
      "                                    Responsibilities  \\\n",
      "0  Manage and grow social media accounts, create ...   \n",
      "1  Design and code user interfaces for websites, ...   \n",
      "2  Establish and enforce quality control standard...   \n",
      "3  Design, configure, and optimize wireless netwo...   \n",
      "4  Specialize in conference and convention planni...   \n",
      "\n",
      "                            Company  \\\n",
      "0                 Icahn Enterprises   \n",
      "1      PNC Financial Services Group   \n",
      "2  United Services Automobile Assn.   \n",
      "3                              Hess   \n",
      "4                      Cairn Energy   \n",
      "\n",
      "                                     Company Profile  \n",
      "0  {\"Sector\":\"Diversified\",\"Industry\":\"Diversifie...  \n",
      "1  {\"Sector\":\"Financial Services\",\"Industry\":\"Com...  \n",
      "2  {\"Sector\":\"Insurance\",\"Industry\":\"Insurance: P...  \n",
      "3  {\"Sector\":\"Energy\",\"Industry\":\"Mining, Crude-O...  \n",
      "4  {\"Sector\":\"Energy\",\"Industry\":\"Energy - Oil & ...  \n",
      "\n",
      "[5 rows x 23 columns]\n"
     ]
    }
   ],
   "source": [
    "# Define the file path\n",
    "file_path = r\"C:\\Users\\mrell\\OneDrive\\Desktop\\job_descriptions.csv\"\n",
    "\n",
    "# Load the CSV file into a DataFrame\n",
    "job_data = pd.read_csv(file_path)\n",
    "\n",
    "# Display the first few rows of the data\n",
    "print(\"First 5 rows of the dataset:\")\n",
    "print(job_data.head())\n"
   ]
  },
  {
   "cell_type": "code",
   "execution_count": 13,
   "id": "c5b33438",
   "metadata": {},
   "outputs": [
    {
     "name": "stdout",
     "output_type": "stream",
     "text": [
      "\n",
      "Dataset Info:\n",
      "<class 'pandas.core.frame.DataFrame'>\n",
      "RangeIndex: 1615940 entries, 0 to 1615939\n",
      "Data columns (total 23 columns):\n",
      " #   Column            Non-Null Count    Dtype  \n",
      "---  ------            --------------    -----  \n",
      " 0   Job Id            1615940 non-null  int64  \n",
      " 1   Experience        1615940 non-null  object \n",
      " 2   Qualifications    1615940 non-null  object \n",
      " 3   Salary Range      1615940 non-null  object \n",
      " 4   location          1615940 non-null  object \n",
      " 5   Country           1615940 non-null  object \n",
      " 6   latitude          1615940 non-null  float64\n",
      " 7   longitude         1615940 non-null  float64\n",
      " 8   Work Type         1615940 non-null  object \n",
      " 9   Company Size      1615940 non-null  int64  \n",
      " 10  Job Posting Date  1615940 non-null  object \n",
      " 11  Preference        1615940 non-null  object \n",
      " 12  Contact Person    1615940 non-null  object \n",
      " 13  Contact           1615940 non-null  object \n",
      " 14  Job Title         1615940 non-null  object \n",
      " 15  Role              1615940 non-null  object \n",
      " 16  Job Portal        1615940 non-null  object \n",
      " 17  Job Description   1615940 non-null  object \n",
      " 18  Benefits          1615940 non-null  object \n",
      " 19  skills            1615940 non-null  object \n",
      " 20  Responsibilities  1615940 non-null  object \n",
      " 21  Company           1615940 non-null  object \n",
      " 22  Company Profile   1610462 non-null  object \n",
      "dtypes: float64(2), int64(2), object(19)\n",
      "memory usage: 283.6+ MB\n",
      "None\n",
      "\n",
      "Summary Statistics:\n",
      "             Job Id      latitude     longitude  Company Size\n",
      "count  1.615940e+06  1.615940e+06  1.615940e+06  1.615940e+06\n",
      "mean   1.548935e+15  1.937743e+01  1.639926e+01  7.370467e+04\n",
      "std    8.946722e+14  2.355690e+01  7.066762e+01  3.529886e+04\n",
      "min    1.817948e+11 -4.090060e+01 -1.751982e+02  1.264600e+04\n",
      "25%    7.740508e+14  5.152100e+00 -1.531010e+01  4.311400e+04\n",
      "50%    1.547858e+15  1.807080e+01  1.914510e+01  7.363300e+04\n",
      "75%    2.323729e+15  3.907420e+01  4.757690e+01  1.043000e+05\n",
      "max    3.099618e+15  7.170690e+01  1.780650e+02  1.348340e+05\n",
      "\n",
      "Missing Values:\n",
      "Job Id                 0\n",
      "Experience             0\n",
      "Qualifications         0\n",
      "Salary Range           0\n",
      "location               0\n",
      "Country                0\n",
      "latitude               0\n",
      "longitude              0\n",
      "Work Type              0\n",
      "Company Size           0\n",
      "Job Posting Date       0\n",
      "Preference             0\n",
      "Contact Person         0\n",
      "Contact                0\n",
      "Job Title              0\n",
      "Role                   0\n",
      "Job Portal             0\n",
      "Job Description        0\n",
      "Benefits               0\n",
      "skills                 0\n",
      "Responsibilities       0\n",
      "Company                0\n",
      "Company Profile     5478\n",
      "dtype: int64\n"
     ]
    }
   ],
   "source": [
    "\n",
    "# Display basic information about the dataset\n",
    "print(\"\\nDataset Info:\")\n",
    "print(job_data.info())\n",
    "\n",
    "# Display summary statistics\n",
    "print(\"\\nSummary Statistics:\")\n",
    "print(job_data.describe())\n",
    "\n",
    "# Check for missing values\n",
    "print(\"\\nMissing Values:\")\n",
    "print(job_data.isnull().sum())\n",
    "\n",
    "# Drop rows with missing values\n",
    "job_data_cleaned = job_data.dropna()\n",
    "\n"
   ]
  },
  {
   "cell_type": "code",
   "execution_count": 14,
   "id": "fe94adeb",
   "metadata": {},
   "outputs": [
    {
     "name": "stdout",
     "output_type": "stream",
     "text": [
      "\n",
      "Shape of the dataset after dropping missing values:\n",
      "(1610462, 23)\n",
      "\n",
      "Duplicate Rows:\n",
      "0\n"
     ]
    }
   ],
   "source": [
    "# Display the shape of the cleaned dataset\n",
    "print(\"\\nShape of the dataset after dropping missing values:\")\n",
    "print(job_data_cleaned.shape)\n",
    "\n",
    "# Check for duplicate rows\n",
    "print(\"\\nDuplicate Rows:\")\n",
    "print(job_data_cleaned.duplicated().sum())\n",
    "\n",
    "# Drop duplicate rows\n",
    "job_data_cleaned = job_data_cleaned.drop_duplicates()\n",
    "\n"
   ]
  },
  {
   "cell_type": "code",
   "execution_count": 15,
   "id": "2a171edb",
   "metadata": {},
   "outputs": [
    {
     "name": "stdout",
     "output_type": "stream",
     "text": [
      "\n",
      "Shape of the dataset after removing duplicates:\n",
      "(1610462, 23)\n",
      "\n",
      "Column Names:\n",
      "Index(['Job Id', 'Experience', 'Qualifications', 'Salary Range', 'location',\n",
      "       'Country', 'latitude', 'longitude', 'Work Type', 'Company Size',\n",
      "       'Job Posting Date', 'Preference', 'Contact Person', 'Contact',\n",
      "       'Job Title', 'Role', 'Job Portal', 'Job Description', 'Benefits',\n",
      "       'skills', 'Responsibilities', 'Company', 'Company Profile'],\n",
      "      dtype='object')\n"
     ]
    }
   ],
   "source": [
    "# Display the shape of the dataset after removing duplicates\n",
    "print(\"\\nShape of the dataset after removing duplicates:\")\n",
    "print(job_data_cleaned.shape)\n",
    "\n",
    "# Display column names to understand the structure\n",
    "print(\"\\nColumn Names:\")\n",
    "print(job_data_cleaned.columns)\n",
    "\n"
   ]
  },
  {
   "cell_type": "code",
   "execution_count": 16,
   "id": "1d0ddf99",
   "metadata": {},
   "outputs": [
    {
     "name": "stdout",
     "output_type": "stream",
     "text": [
      "\n",
      "Job Title Counts:\n",
      "Job Title\n",
      "UX/UI Designer                  48376\n",
      "Digital Marketing Specialist    27881\n",
      "Software Engineer               27537\n",
      "Network Engineer                24307\n",
      "Software Tester                 20871\n",
      "                                ...  \n",
      "QA Engineer                      3431\n",
      "Personal Assistant               3429\n",
      "Procurement Coordinator          3415\n",
      "Key Account Manager              3394\n",
      "Inventory Analyst                3335\n",
      "Name: count, Length: 147, dtype: int64\n",
      "\n",
      "Summary Statistics for Numerical Columns:\n",
      "             Job Id      latitude     longitude  Company Size\n",
      "count  1.610462e+06  1.610462e+06  1.610462e+06  1.610462e+06\n",
      "mean   1.548978e+15  1.937873e+01  1.640275e+01  7.370378e+04\n",
      "std    8.946738e+14  2.355602e+01  7.066469e+01  3.529832e+04\n",
      "min    1.817948e+11 -4.090060e+01 -1.751982e+02  1.264600e+04\n",
      "25%    7.740660e+14  5.152100e+00 -1.518040e+01  4.311400e+04\n",
      "50%    1.547972e+15  1.807080e+01  1.914510e+01  7.363350e+04\n",
      "75%    2.323738e+15  3.907420e+01  4.757690e+01  1.042990e+05\n",
      "max    3.099618e+15  7.170690e+01  1.780650e+02  1.348340e+05\n"
     ]
    }
   ],
   "source": [
    "# Group by a specific column (e.g., 'Job Title') and count occurrences\n",
    "if 'Job Title' in job_data_cleaned.columns:\n",
    "    print(\"\\nJob Title Counts:\")\n",
    "    print(job_data_cleaned['Job Title'].value_counts())\n",
    "\n",
    "# Summary statistics for numerical columns\n",
    "print(\"\\nSummary Statistics for Numerical Columns:\")\n",
    "print(job_data_cleaned.describe())\n",
    "\n"
   ]
  },
  {
   "cell_type": "code",
   "execution_count": 17,
   "id": "d7fd3734",
   "metadata": {},
   "outputs": [
    {
     "name": "stdout",
     "output_type": "stream",
     "text": [
      "\n",
      "TF-IDF Matrix Shape:\n",
      "(1610462, 1000)\n"
     ]
    }
   ],
   "source": [
    "# Text Vectorization using TfidfVectorizer\n",
    "if 'Job Description' in job_data_cleaned.columns:\n",
    "    vectorizer = TfidfVectorizer(stop_words='english', max_features=1000)\n",
    "    job_desc_vectors = vectorizer.fit_transform(job_data_cleaned['Job Description'])\n",
    "    print(\"\\nTF-IDF Matrix Shape:\")\n",
    "    print(job_desc_vectors.shape)\n"
   ]
  },
  {
   "cell_type": "code",
   "execution_count": 18,
   "id": "f758d403",
   "metadata": {},
   "outputs": [
    {
     "name": "stdout",
     "output_type": "stream",
     "text": [
      "\n",
      "Cluster Assignments:\n",
      "                                     Job Description  Cluster\n",
      "0  Social Media Managers oversee an organizations...        1\n",
      "1  Frontend Web Developers design and implement u...        0\n",
      "2  Quality Control Managers establish and enforce...        3\n",
      "3  Wireless Network Engineers design, implement, ...        4\n",
      "4  A Conference Manager coordinates and manages c...        2\n"
     ]
    }
   ],
   "source": [
    "\n",
    "# Clustering using KMeans\n",
    "num_clusters = 5  # Define the number of clusters\n",
    "kmeans = KMeans(n_clusters=num_clusters, random_state=42)\n",
    "job_data_cleaned['Cluster'] = kmeans.fit_predict(job_desc_vectors)\n",
    "print(\"\\nCluster Assignments:\")\n",
    "print(job_data_cleaned[['Job Description', 'Cluster']].head())\n",
    "\n"
   ]
  },
  {
   "cell_type": "code",
   "execution_count": 19,
   "id": "88442a79",
   "metadata": {},
   "outputs": [],
   "source": [
    "# Classification Example: Predict 'Job Category' based on 'Job Description'\n",
    "if 'Job Category' in job_data_cleaned.columns and 'Job Description' in job_data_cleaned.columns:\n",
    "    X = job_desc_vectors\n",
    "    y = job_data_cleaned['Job Category']\n",
    "\n",
    "    # Split the data into training and testing sets\n",
    "    X_train, X_test, y_train, y_test = train_test_split(X, y, test_size=0.2, random_state=42)\n",
    "\n",
    "    # Train a Random Forest Classifier\n",
    "    clf = RandomForestClassifier(random_state=42)\n",
    "    clf.fit(X_train, y_train)\n",
    "\n",
    "    # Evaluate the model\n",
    "    y_pred = clf.predict(X_test)\n",
    "    print(\"\\nClassification Report:\")\n",
    "    print(classification_report(y_test, y_pred))\n",
    "\n"
   ]
  },
  {
   "cell_type": "code",
   "execution_count": 20,
   "id": "4d545f09",
   "metadata": {},
   "outputs": [
    {
     "data": {
      "image/png": "[encoded data removed]",
      "text/plain": [
       "<Figure size 1200x800 with 1 Axes>"
      ]
     },
     "metadata": {},
     "output_type": "display_data"
    }
   ],
   "source": [
    "# Visualization: Plot the distribution of a numerical column\n",
    "if 'Salary' in job_data_cleaned.columns:\n",
    "    plt.figure(figsize=(10, 6))\n",
    "    sns.histplot(job_data_cleaned['Salary'], kde=True, bins=30)\n",
    "    plt.title(\"Salary Distribution\")\n",
    "    plt.xlabel(\"Salary\")\n",
    "    plt.ylabel(\"Frequency\")\n",
    "    plt.show()\n",
    "\n",
    "# Bar plot for job titles\n",
    "if 'Job Title' in job_data_cleaned.columns:\n",
    "    plt.figure(figsize=(12, 8))\n",
    "    job_data_cleaned['Job Title'].value_counts().head(10).plot(kind='bar')\n",
    "    plt.title(\"Top 10 Job Titles\")\n",
    "    plt.xlabel(\"Job Title\")\n",
    "    plt.ylabel(\"Count\")\n",
    "    plt.show()"
   ]
  }
 ],
 "metadata": {
  "kernelspec": {
   "display_name": "Python 3",
   "language": "python",
   "name": "python3"
  },
  "language_info": {
   "codemirror_mode": {
    "name": "ipython",
    "version": 3
   },
   "file_extension": ".py",
   "mimetype": "text/x-python",
   "name": "python",
   "nbconvert_exporter": "python",
   "pygments_lexer": "ipython3",
   "version": "3.11.9"
  }
 },
 "nbformat": 4,
 "nbformat_minor": 5
}
