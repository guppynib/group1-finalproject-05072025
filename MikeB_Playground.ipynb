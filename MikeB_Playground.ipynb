{
 "cells": [
  {
   "cell_type": "code",
   "execution_count": 15,
   "id": "51f78751",
   "metadata": {},
   "outputs": [
    {
     "name": "stdout",
     "output_type": "stream",
     "text": [
      "Requirement already satisfied: nltk in c:\\users\\mike\\anaconda3\\lib\\site-packages (3.9.1)\n",
      "Requirement already satisfied: click in c:\\users\\mike\\anaconda3\\lib\\site-packages (from nltk) (8.1.7)\n",
      "Requirement already satisfied: joblib in c:\\users\\mike\\anaconda3\\lib\\site-packages (from nltk) (1.4.2)\n",
      "Requirement already satisfied: regex>=2021.8.3 in c:\\users\\mike\\anaconda3\\lib\\site-packages (from nltk) (2024.9.11)\n",
      "Requirement already satisfied: tqdm in c:\\users\\mike\\anaconda3\\lib\\site-packages (from nltk) (4.66.5)\n",
      "Requirement already satisfied: colorama in c:\\users\\mike\\anaconda3\\lib\\site-packages (from click->nltk) (0.4.6)\n",
      "Note: you may need to restart the kernel to use updated packages.\n"
     ]
    }
   ],
   "source": [
    "pip install nltk"
   ]
  },
  {
   "cell_type": "code",
   "execution_count": 16,
   "id": "c7b020bd",
   "metadata": {},
   "outputs": [
    {
     "name": "stderr",
     "output_type": "stream",
     "text": [
      "[nltk_data] Downloading package vader_lexicon to\n",
      "[nltk_data]     C:\\Users\\Mike\\AppData\\Roaming\\nltk_data...\n",
      "[nltk_data]   Package vader_lexicon is already up-to-date!\n"
     ]
    },
    {
     "data": {
      "text/plain": [
       "True"
      ]
     },
     "execution_count": 16,
     "metadata": {},
     "output_type": "execute_result"
    }
   ],
   "source": [
    "from nltk.sentiment import SentimentIntensityAnalyzer\n",
    "import nltk\n",
    "import pandas as pd\n",
    "import pandas as pd\n",
    "import seaborn as sns\n",
    "import matplotlib.pyplot as plt\n",
    "nltk.download('vader_lexicon')  # Ensures you have the latest lexicon"
   ]
  },
  {
   "cell_type": "code",
   "execution_count": 17,
   "id": "f0f62242",
   "metadata": {},
   "outputs": [
    {
     "data": {
      "text/html": [
       "<div>\n",
       "<style scoped>\n",
       "    .dataframe tbody tr th:only-of-type {\n",
       "        vertical-align: middle;\n",
       "    }\n",
       "\n",
       "    .dataframe tbody tr th {\n",
       "        vertical-align: top;\n",
       "    }\n",
       "\n",
       "    .dataframe thead th {\n",
       "        text-align: right;\n",
       "    }\n",
       "</style>\n",
       "<table border=\"1\" class=\"dataframe\">\n",
       "  <thead>\n",
       "    <tr style=\"text-align: right;\">\n",
       "      <th></th>\n",
       "      <th>Job Id</th>\n",
       "      <th>Experience</th>\n",
       "      <th>Qualifications</th>\n",
       "      <th>Salary Range</th>\n",
       "      <th>location</th>\n",
       "      <th>Country</th>\n",
       "      <th>latitude</th>\n",
       "      <th>longitude</th>\n",
       "      <th>Work Type</th>\n",
       "      <th>Company Size</th>\n",
       "      <th>...</th>\n",
       "      <th>Contact</th>\n",
       "      <th>Job Title</th>\n",
       "      <th>Role</th>\n",
       "      <th>Job Portal</th>\n",
       "      <th>Job Description</th>\n",
       "      <th>Benefits</th>\n",
       "      <th>skills</th>\n",
       "      <th>Responsibilities</th>\n",
       "      <th>Company</th>\n",
       "      <th>Company Profile</th>\n",
       "    </tr>\n",
       "  </thead>\n",
       "  <tbody>\n",
       "    <tr>\n",
       "      <th>0</th>\n",
       "      <td>1089843540111562</td>\n",
       "      <td>5 to 15 Years</td>\n",
       "      <td>M.Tech</td>\n",
       "      <td>$59K-$99K</td>\n",
       "      <td>Douglas</td>\n",
       "      <td>Isle of Man</td>\n",
       "      <td>54.2361</td>\n",
       "      <td>-4.5481</td>\n",
       "      <td>Intern</td>\n",
       "      <td>26801</td>\n",
       "      <td>...</td>\n",
       "      <td>001-381-930-7517x737</td>\n",
       "      <td>Digital Marketing Specialist</td>\n",
       "      <td>Social Media Manager</td>\n",
       "      <td>Snagajob</td>\n",
       "      <td>Social Media Managers oversee an organizations...</td>\n",
       "      <td>{'Flexible Spending Accounts (FSAs), Relocatio...</td>\n",
       "      <td>Social media platforms (e.g., Facebook, Twitte...</td>\n",
       "      <td>Manage and grow social media accounts, create ...</td>\n",
       "      <td>Icahn Enterprises</td>\n",
       "      <td>{\"Sector\":\"Diversified\",\"Industry\":\"Diversifie...</td>\n",
       "    </tr>\n",
       "    <tr>\n",
       "      <th>1</th>\n",
       "      <td>398454096642776</td>\n",
       "      <td>2 to 12 Years</td>\n",
       "      <td>BCA</td>\n",
       "      <td>$56K-$116K</td>\n",
       "      <td>Ashgabat</td>\n",
       "      <td>Turkmenistan</td>\n",
       "      <td>38.9697</td>\n",
       "      <td>59.5563</td>\n",
       "      <td>Intern</td>\n",
       "      <td>100340</td>\n",
       "      <td>...</td>\n",
       "      <td>461-509-4216</td>\n",
       "      <td>Web Developer</td>\n",
       "      <td>Frontend Web Developer</td>\n",
       "      <td>Idealist</td>\n",
       "      <td>Frontend Web Developers design and implement u...</td>\n",
       "      <td>{'Health Insurance, Retirement Plans, Paid Tim...</td>\n",
       "      <td>HTML, CSS, JavaScript Frontend frameworks (e.g...</td>\n",
       "      <td>Design and code user interfaces for websites, ...</td>\n",
       "      <td>PNC Financial Services Group</td>\n",
       "      <td>{\"Sector\":\"Financial Services\",\"Industry\":\"Com...</td>\n",
       "    </tr>\n",
       "    <tr>\n",
       "      <th>2</th>\n",
       "      <td>481640072963533</td>\n",
       "      <td>0 to 12 Years</td>\n",
       "      <td>PhD</td>\n",
       "      <td>$61K-$104K</td>\n",
       "      <td>Macao</td>\n",
       "      <td>Macao SAR, China</td>\n",
       "      <td>22.1987</td>\n",
       "      <td>113.5439</td>\n",
       "      <td>Temporary</td>\n",
       "      <td>84525</td>\n",
       "      <td>...</td>\n",
       "      <td>9687619505</td>\n",
       "      <td>Operations Manager</td>\n",
       "      <td>Quality Control Manager</td>\n",
       "      <td>Jobs2Careers</td>\n",
       "      <td>Quality Control Managers establish and enforce...</td>\n",
       "      <td>{'Legal Assistance, Bonuses and Incentive Prog...</td>\n",
       "      <td>Quality control processes and methodologies St...</td>\n",
       "      <td>Establish and enforce quality control standard...</td>\n",
       "      <td>United Services Automobile Assn.</td>\n",
       "      <td>{\"Sector\":\"Insurance\",\"Industry\":\"Insurance: P...</td>\n",
       "    </tr>\n",
       "    <tr>\n",
       "      <th>3</th>\n",
       "      <td>688192671473044</td>\n",
       "      <td>4 to 11 Years</td>\n",
       "      <td>PhD</td>\n",
       "      <td>$65K-$91K</td>\n",
       "      <td>Porto-Novo</td>\n",
       "      <td>Benin</td>\n",
       "      <td>9.3077</td>\n",
       "      <td>2.3158</td>\n",
       "      <td>Full-Time</td>\n",
       "      <td>129896</td>\n",
       "      <td>...</td>\n",
       "      <td>+1-820-643-5431x47576</td>\n",
       "      <td>Network Engineer</td>\n",
       "      <td>Wireless Network Engineer</td>\n",
       "      <td>FlexJobs</td>\n",
       "      <td>Wireless Network Engineers design, implement, ...</td>\n",
       "      <td>{'Transportation Benefits, Professional Develo...</td>\n",
       "      <td>Wireless network design and architecture Wi-Fi...</td>\n",
       "      <td>Design, configure, and optimize wireless netwo...</td>\n",
       "      <td>Hess</td>\n",
       "      <td>{\"Sector\":\"Energy\",\"Industry\":\"Mining, Crude-O...</td>\n",
       "    </tr>\n",
       "    <tr>\n",
       "      <th>4</th>\n",
       "      <td>117057806156508</td>\n",
       "      <td>1 to 12 Years</td>\n",
       "      <td>MBA</td>\n",
       "      <td>$64K-$87K</td>\n",
       "      <td>Santiago</td>\n",
       "      <td>Chile</td>\n",
       "      <td>-35.6751</td>\n",
       "      <td>-71.5429</td>\n",
       "      <td>Intern</td>\n",
       "      <td>53944</td>\n",
       "      <td>...</td>\n",
       "      <td>343.975.4702x9340</td>\n",
       "      <td>Event Manager</td>\n",
       "      <td>Conference Manager</td>\n",
       "      <td>Jobs2Careers</td>\n",
       "      <td>A Conference Manager coordinates and manages c...</td>\n",
       "      <td>{'Flexible Spending Accounts (FSAs), Relocatio...</td>\n",
       "      <td>Event planning Conference logistics Budget man...</td>\n",
       "      <td>Specialize in conference and convention planni...</td>\n",
       "      <td>Cairn Energy</td>\n",
       "      <td>{\"Sector\":\"Energy\",\"Industry\":\"Energy - Oil &amp; ...</td>\n",
       "    </tr>\n",
       "  </tbody>\n",
       "</table>\n",
       "<p>5 rows × 23 columns</p>\n",
       "</div>"
      ],
      "text/plain": [
       "             Job Id     Experience Qualifications Salary Range    location  \\\n",
       "0  1089843540111562  5 to 15 Years         M.Tech    $59K-$99K     Douglas   \n",
       "1   398454096642776  2 to 12 Years            BCA   $56K-$116K    Ashgabat   \n",
       "2   481640072963533  0 to 12 Years            PhD   $61K-$104K       Macao   \n",
       "3   688192671473044  4 to 11 Years            PhD    $65K-$91K  Porto-Novo   \n",
       "4   117057806156508  1 to 12 Years            MBA    $64K-$87K    Santiago   \n",
       "\n",
       "            Country  latitude  longitude  Work Type  Company Size  ...  \\\n",
       "0       Isle of Man   54.2361    -4.5481     Intern         26801  ...   \n",
       "1      Turkmenistan   38.9697    59.5563     Intern        100340  ...   \n",
       "2  Macao SAR, China   22.1987   113.5439  Temporary         84525  ...   \n",
       "3             Benin    9.3077     2.3158  Full-Time        129896  ...   \n",
       "4             Chile  -35.6751   -71.5429     Intern         53944  ...   \n",
       "\n",
       "                 Contact                     Job Title  \\\n",
       "0   001-381-930-7517x737  Digital Marketing Specialist   \n",
       "1           461-509-4216                 Web Developer   \n",
       "2             9687619505            Operations Manager   \n",
       "3  +1-820-643-5431x47576              Network Engineer   \n",
       "4      343.975.4702x9340                 Event Manager   \n",
       "\n",
       "                        Role    Job Portal  \\\n",
       "0       Social Media Manager      Snagajob   \n",
       "1     Frontend Web Developer      Idealist   \n",
       "2    Quality Control Manager  Jobs2Careers   \n",
       "3  Wireless Network Engineer      FlexJobs   \n",
       "4         Conference Manager  Jobs2Careers   \n",
       "\n",
       "                                     Job Description  \\\n",
       "0  Social Media Managers oversee an organizations...   \n",
       "1  Frontend Web Developers design and implement u...   \n",
       "2  Quality Control Managers establish and enforce...   \n",
       "3  Wireless Network Engineers design, implement, ...   \n",
       "4  A Conference Manager coordinates and manages c...   \n",
       "\n",
       "                                            Benefits  \\\n",
       "0  {'Flexible Spending Accounts (FSAs), Relocatio...   \n",
       "1  {'Health Insurance, Retirement Plans, Paid Tim...   \n",
       "2  {'Legal Assistance, Bonuses and Incentive Prog...   \n",
       "3  {'Transportation Benefits, Professional Develo...   \n",
       "4  {'Flexible Spending Accounts (FSAs), Relocatio...   \n",
       "\n",
       "                                              skills  \\\n",
       "0  Social media platforms (e.g., Facebook, Twitte...   \n",
       "1  HTML, CSS, JavaScript Frontend frameworks (e.g...   \n",
       "2  Quality control processes and methodologies St...   \n",
       "3  Wireless network design and architecture Wi-Fi...   \n",
       "4  Event planning Conference logistics Budget man...   \n",
       "\n",
       "                                    Responsibilities  \\\n",
       "0  Manage and grow social media accounts, create ...   \n",
       "1  Design and code user interfaces for websites, ...   \n",
       "2  Establish and enforce quality control standard...   \n",
       "3  Design, configure, and optimize wireless netwo...   \n",
       "4  Specialize in conference and convention planni...   \n",
       "\n",
       "                            Company  \\\n",
       "0                 Icahn Enterprises   \n",
       "1      PNC Financial Services Group   \n",
       "2  United Services Automobile Assn.   \n",
       "3                              Hess   \n",
       "4                      Cairn Energy   \n",
       "\n",
       "                                     Company Profile  \n",
       "0  {\"Sector\":\"Diversified\",\"Industry\":\"Diversifie...  \n",
       "1  {\"Sector\":\"Financial Services\",\"Industry\":\"Com...  \n",
       "2  {\"Sector\":\"Insurance\",\"Industry\":\"Insurance: P...  \n",
       "3  {\"Sector\":\"Energy\",\"Industry\":\"Mining, Crude-O...  \n",
       "4  {\"Sector\":\"Energy\",\"Industry\":\"Energy - Oil & ...  \n",
       "\n",
       "[5 rows x 23 columns]"
      ]
     },
     "execution_count": 17,
     "metadata": {},
     "output_type": "execute_result"
    }
   ],
   "source": [
    "# Load the CSV file\n",
    "df = pd.read_csv(\"job_descriptions.csv\")\n",
    "\n",
    "# Display the first few rows\n",
    "df.head()"
   ]
  },
  {
   "cell_type": "code",
   "execution_count": 18,
   "id": "cf324294",
   "metadata": {},
   "outputs": [
    {
     "name": "stdout",
     "output_type": "stream",
     "text": [
      "                      Job Title  \\\n",
      "0  Digital Marketing Specialist   \n",
      "1                 Web Developer   \n",
      "2            Operations Manager   \n",
      "3              Network Engineer   \n",
      "4                 Event Manager   \n",
      "\n",
      "                                     Job Description  sentiment  \n",
      "0  Social Media Managers oversee an organizations...     0.7579  \n",
      "1  Frontend Web Developers design and implement u...     0.4939  \n",
      "2  Quality Control Managers establish and enforce...     0.0000  \n",
      "3  Wireless Network Engineers design, implement, ...     0.8658  \n",
      "4  A Conference Manager coordinates and manages c...     0.3818  \n"
     ]
    }
   ],
   "source": [
    "sia = SentimentIntensityAnalyzer()\n",
    "\n",
    "# Apply sentiment analysis to the Job Description column\n",
    "df['sentiment'] = df['Job Description'].apply(lambda text: sia.polarity_scores(text)['compound'])\n",
    "\n",
    "# View results\n",
    "print(df[['Job Title', 'Job Description', 'sentiment']].head())"
   ]
  },
  {
   "cell_type": "code",
   "execution_count": 19,
   "id": "46fcbdca",
   "metadata": {},
   "outputs": [
    {
     "name": "stdout",
     "output_type": "stream",
     "text": [
      "count    1.615940e+06\n",
      "mean     5.167927e-01\n",
      "std      2.904848e-01\n",
      "min     -7.964000e-01\n",
      "25%      3.612000e-01\n",
      "50%      5.859000e-01\n",
      "75%      7.351000e-01\n",
      "max      9.538000e-01\n",
      "Name: sentiment, dtype: float64\n"
     ]
    },
    {
     "data": {
      "image/png": "[encoded data removed]",
      "text/plain": [
       "<Figure size 640x480 with 1 Axes>"
      ]
     },
     "metadata": {},
     "output_type": "display_data"
    }
   ],
   "source": [
    "# Summary of sentiment values\n",
    "print(df['sentiment'].describe())\n",
    "\n",
    "# Histogram of sentiment distribution\n",
    "import matplotlib.pyplot as plt\n",
    "df['sentiment'].hist(bins=20)\n",
    "plt.xlabel(\"Sentiment Score\")\n",
    "plt.ylabel(\"Frequency\")\n",
    "plt.title(\"Distribution of Sentiment Scores in Job Descriptions\")\n",
    "plt.show()"
   ]
  },
  {
   "cell_type": "code",
   "execution_count": 20,
   "id": "b53d3173",
   "metadata": {},
   "outputs": [
    {
     "name": "stdout",
     "output_type": "stream",
     "text": [
      "Most Positive Job Titles:\n",
      "Job Title\n",
      "SEO Analyst                        0.917696\n",
      "Customer Support Specialist        0.906060\n",
      "Market Analyst                     0.891000\n",
      "Supply Chain Analyst               0.865800\n",
      "Network Technician                 0.853291\n",
      "Customer Service Representative    0.819373\n",
      "Investment Advisor                 0.817600\n",
      "Systems Engineer                   0.798673\n",
      "Network Security Specialist        0.796509\n",
      "Inventory Analyst                  0.796400\n",
      "Name: sentiment, dtype: float64\n",
      "\n",
      "Most Negative Job Titles:\n",
      "Job Title\n",
      "Financial Advisor              0.205832\n",
      "Legal Assistant                0.196387\n",
      "Litigation Attorney            0.175450\n",
      "Physical Therapist             0.146871\n",
      "Marketing Analyst              0.124920\n",
      "Market Research Analyst        0.120966\n",
      "Accountant                     0.077083\n",
      "Public Relations Specialist    0.061474\n",
      "Investment Analyst            -0.073880\n",
      "Financial Planner             -0.202300\n",
      "Name: sentiment, dtype: float64\n"
     ]
    }
   ],
   "source": [
    "# Group by Job Title and compute average sentiment score\n",
    "job_sentiment = df.groupby(\"Job Title\")[\"sentiment\"].mean().sort_values(ascending=False)\n",
    "\n",
    "# Display top 10 most positive and negative job titles\n",
    "print(\"Most Positive Job Titles:\")\n",
    "print(job_sentiment.head(10))\n",
    "\n",
    "print(\"\\nMost Negative Job Titles:\")\n",
    "print(job_sentiment.tail(10))"
   ]
  },
  {
   "cell_type": "code",
   "execution_count": 21,
   "id": "c4ce4e3c",
   "metadata": {},
   "outputs": [
    {
     "name": "stdout",
     "output_type": "stream",
     "text": [
      "Work Type\n",
      "Full-Time    0.517368\n",
      "Temporary    0.517229\n",
      "Intern       0.516880\n",
      "Contract     0.516402\n",
      "Part-Time    0.516088\n",
      "Name: sentiment, dtype: float64\n"
     ]
    }
   ],
   "source": [
    "# Group by Work Type and calculate average sentiment\n",
    "work_type_sentiment = df.groupby(\"Work Type\")[\"sentiment\"].mean().sort_values(ascending=False)\n",
    "\n",
    "# Display sentiment across different job types\n",
    "print(work_type_sentiment)"
   ]
  },
  {
   "cell_type": "code",
   "execution_count": 22,
   "id": "2c24ab35",
   "metadata": {},
   "outputs": [
    {
     "name": "stdout",
     "output_type": "stream",
     "text": [
      "Most Positive Countries:\n",
      "Country\n",
      "Maldives                 0.524860\n",
      "Portugal                 0.524526\n",
      "Poland                   0.524022\n",
      "China                    0.523959\n",
      "French Polynesia         0.523596\n",
      "Comoros                  0.523327\n",
      "Virgin Islands (U.S.)    0.522758\n",
      "Slovak Republic          0.522752\n",
      "Lao PDR                  0.522704\n",
      "Estonia                  0.522674\n",
      "Name: sentiment, dtype: float64\n",
      "\n",
      "Most Negative Countries:\n",
      "Country\n",
      "Argentina       0.511107\n",
      "Puerto Rico     0.510984\n",
      "St. Lucia       0.510852\n",
      "Qatar           0.510572\n",
      "Bahrain         0.510473\n",
      "Bhutan          0.509793\n",
      "Mauritania      0.509497\n",
      "Algeria         0.509353\n",
      "Burkina Faso    0.509072\n",
      "Ghana           0.509055\n",
      "Name: sentiment, dtype: float64\n"
     ]
    }
   ],
   "source": [
    "# Compute average sentiment by country\n",
    "country_sentiment = df.groupby(\"Country\")[\"sentiment\"].mean().sort_values(ascending=False)\n",
    "\n",
    "# Top 10 most positive and negative countries\n",
    "print(\"Most Positive Countries:\")\n",
    "print(country_sentiment.head(10))\n",
    "\n",
    "print(\"\\nMost Negative Countries:\")\n",
    "print(country_sentiment.tail(10))"
   ]
  },
  {
   "cell_type": "code",
   "execution_count": 23,
   "id": "1fee76ca",
   "metadata": {},
   "outputs": [],
   "source": [
    "# Extract minimum and maximum salary as numerical values\n",
    "df[\"Min Salary\"] = df[\"Salary Range\"].str.extract(r'(\\d+)').astype(float)\n",
    "df[\"Max Salary\"] = df[\"Salary Range\"].str.extract(r'-(\\d+)').astype(float)\n",
    "\n",
    "# Compute the average salary\n",
    "df[\"Avg Salary\"] = (df[\"Min Salary\"] + df[\"Max Salary\"]) / 2\n",
    "\n",
    "# Drop rows where salary extraction failed\n",
    "df = df.dropna(subset=[\"Avg Salary\", \"sentiment\"])\n"
   ]
  },
  {
   "cell_type": "code",
   "execution_count": 24,
   "id": "6b4cc993",
   "metadata": {},
   "outputs": [
    {
     "data": {
      "image/png": "[encoded data removed]",
      "text/plain": [
       "<Figure size 640x480 with 1 Axes>"
      ]
     },
     "metadata": {},
     "output_type": "display_data"
    }
   ],
   "source": [
    "sns.scatterplot(x=df[\"Avg Salary\"], y=df[\"sentiment\"])\n",
    "plt.xlabel(\"Average Salary ($K)\")\n",
    "plt.ylabel(\"Sentiment Score\")\n",
    "plt.title(\"Sentiment vs. Salary\")\n",
    "plt.show()"
   ]
  }
 ],
 "metadata": {
  "kernelspec": {
   "display_name": "base",
   "language": "python",
   "name": "python3"
  },
  "language_info": {
   "codemirror_mode": {
    "name": "ipython",
    "version": 3
   },
   "file_extension": ".py",
   "mimetype": "text/x-python",
   "name": "python",
   "nbconvert_exporter": "python",
   "pygments_lexer": "ipython3",
   "version": "3.12.7"
  }
 },
 "nbformat": 4,
 "nbformat_minor": 5
}
